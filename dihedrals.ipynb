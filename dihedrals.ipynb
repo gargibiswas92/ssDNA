{
 "cells": [
  {
   "cell_type": "code",
   "execution_count": 1,
   "id": "1318991d-8684-4a98-b3f1-f8635c86dc18",
   "metadata": {},
   "outputs": [
    {
     "name": "stdout",
     "output_type": "stream",
     "text": [
      "86\n"
     ]
    }
   ],
   "source": [
    "inp1 = open(\"modrep_rpa.dat\", \"r\")\n",
    "out1 = open(\"mod_dihed.dat\", \"w\")\n",
    "count = 0\n",
    "di_ind = []\n",
    "at_ind1 = []\n",
    "at_ind2 = []\n",
    "at_ind3 = []\n",
    "at_ind4 = []\n",
    "ang = []\n",
    "strength = []\n",
    "rand1 = []\n",
    "rand2 = []\n",
    "for line in inp1:\n",
    "    arr = []\n",
    "    count = count + 1\n",
    "    if count >= 39199 and count <= 40805:\n",
    "        arr = line.split()\n",
    "        di_ind.append(int(arr[0]))\n",
    "        at_ind1.append(int(arr[1]))\n",
    "        at_ind2.append(int(arr[2]))\n",
    "        at_ind3.append(int(arr[3]))\n",
    "        at_ind4.append(int(arr[4]))\n",
    "        ang.append(float(arr[5]))\n",
    "        strength.append(float(arr[6]))\n",
    "        rand1.append(float(arr[7]))\n",
    "        rand2.append(float(arr[8]))\n",
    "        \n",
    "change_di = []\n",
    "for j in range(542, 560):\n",
    "    change_di.append(j)\n",
    "for j in range(778, 798):\n",
    "    change_di.append(j)\n",
    "for j in range(978, 999):\n",
    "    change_di.append(j)\n",
    "for j in range(1021, 1038):\n",
    "    change_di.append(j)    \n",
    "cn = 0    \n",
    "st = 0.0\n",
    "for k in range(len(at_ind1)):\n",
    "    flag = 0\n",
    "    for i in range(len(change_di)):\n",
    "        if (at_ind2[k] == change_di[i]) or (at_ind3[k] == change_di[i]):\n",
    "            flag = 1\n",
    "            cn = cn + 1\n",
    "    if flag == 0:\n",
    "        ssc = '{:>5d}{:>5d}{:>5d}{:>5d}{:>5d}{:>8.3f}{:>8.3f}{:>8.3f}{:>8.3f}{}'.format(di_ind[k], at_ind1[k], at_ind2[k], at_ind3[k], at_ind4[k], ang[k], strength[k], rand1[k], rand2[k], \"\\n\")\n",
    "        out1.writelines(ssc)\n",
    "    if flag == 1:\n",
    "        ssd = '{:>5d}{:>5d}{:>5d}{:>5d}{:>5d}{:>8.3f}{:>8.3f}{:>8.3f}{:>8.3f}{}'.format(di_ind[k], at_ind1[k], at_ind2[k], at_ind3[k], at_ind4[k], ang[k], st, rand1[k], rand2[k], \"\\n\")\n",
    "        out1.writelines(ssd)\n",
    "#        print(di_ind[k], at_ind1[k], at_ind2[k], at_ind3[k], at_ind4[k])\n",
    "print(cn)\n",
    "inp1.close()\n",
    "out1.close()"
   ]
  },
  {
   "cell_type": "code",
   "execution_count": null,
   "id": "108a2c71-6da7-4425-989b-42646188b7aa",
   "metadata": {},
   "outputs": [],
   "source": []
  }
 ],
 "metadata": {
  "kernelspec": {
   "display_name": "Python 3 (ipykernel)",
   "language": "python",
   "name": "python3"
  },
  "language_info": {
   "codemirror_mode": {
    "name": "ipython",
    "version": 3
   },
   "file_extension": ".py",
   "mimetype": "text/x-python",
   "name": "python",
   "nbconvert_exporter": "python",
   "pygments_lexer": "ipython3",
   "version": "3.9.12"
  }
 },
 "nbformat": 4,
 "nbformat_minor": 5
}
