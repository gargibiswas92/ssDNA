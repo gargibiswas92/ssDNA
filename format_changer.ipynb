{
 "cells": [
  {
   "cell_type": "code",
   "execution_count": 2,
   "id": "18379089-9bdc-4116-8ae6-8a79ad2975be",
   "metadata": {},
   "outputs": [],
   "source": [
    "inp1 = open(\"snap_486.pdb\", \"r\")\n",
    "out1 = open(\"snap_486_formatted.dat\", \"w\")\n",
    "atom = []\n",
    "atom_name = []\n",
    "res_name = []\n",
    "res_num = []\n",
    "x = []\n",
    "y = []\n",
    "z = []\n",
    "#atom_type = []\n",
    "for line in inp1:\n",
    "    a = line[4:11]\n",
    "    b = line[11:15]\n",
    "    c = line[15:20]\n",
    "    d = line[22:26]\n",
    "    e = line[26:38]\n",
    "    f = line[38:46]\n",
    "    g = line[46:54]\n",
    "    #h = line[67:-1]\n",
    "    #print(h)\n",
    "    atom.append(int(a))\n",
    "    atom_name.append(b.strip())\n",
    "    res_name.append(c.strip())\n",
    "    res_num.append(int(d))\n",
    "    x.append(float(e))\n",
    "    y.append(float(f))\n",
    "    z.append(float(g))\n",
    "    #atom_type.append(h)\n",
    "    \n",
    "m = 1.0\n",
    "n = 0\n",
    "atom_type = \"C\"\n",
    "    \n",
    "for i in range(len(atom)):\n",
    "    if atom[i] <= 1339:\n",
    "        #ss = '{:>5d}{:>4d}{:>3s}{:>4s}{:>8.3f}{:>8.3f}{:>8.3f}{:>8.3f}{}'.format(atom[i], res_num[i], atom_name[i], res_name[i], x[i], y[i], z[i], m, \"\\n\")\n",
    "        ss = '{:>5d}{:>4d}{:>3s}{:>4s}{:>8.3f}{:>8.3f}{:>8.3f}{:>8.3f}{}'.format(atom[i], res_num[i], atom_name[i], res_name[i], x[i], y[i], z[i], m, \"\\n\")\n",
    "        out1.writelines(ss)\n",
    "    if atom[i] >= 1340:\n",
    "        ss1 = '{:>5d}{:>4d}{:>2s}{:>5s}{:>8.3f}{:>8.3f}{:>8.3f}{:>8.3f}{:>3d}{}'.format(atom[i], atom[i], atom_name[i], res_name[i], x[i], y[i], z[i], m, n, \"\\n\")\n",
    "        out1.writelines(ss1)\n",
    "        \n",
    "out1.close()\n",
    "inp1.close()\n",
    "        "
   ]
  },
  {
   "cell_type": "code",
   "execution_count": null,
   "id": "cc682168-c79a-43f4-9923-478c24699a68",
   "metadata": {},
   "outputs": [],
   "source": [
    "\n"
   ]
  }
 ],
 "metadata": {
  "kernelspec": {
   "display_name": "Python 3 (ipykernel)",
   "language": "python",
   "name": "python3"
  },
  "language_info": {
   "codemirror_mode": {
    "name": "ipython",
    "version": 3
   },
   "file_extension": ".py",
   "mimetype": "text/x-python",
   "name": "python",
   "nbconvert_exporter": "python",
   "pygments_lexer": "ipython3",
   "version": "3.9.12"
  }
 },
 "nbformat": 4,
 "nbformat_minor": 5
}
