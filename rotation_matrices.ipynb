{
 "cells": [
  {
   "cell_type": "code",
   "execution_count": 14,
   "id": "40a299f4-403e-4eaa-9c41-7fc54421977c",
   "metadata": {},
   "outputs": [
    {
     "name": "stdout",
     "output_type": "stream",
     "text": [
      "-14.216 142.321 38.513\n",
      "-105.276 -52.688 172.644\n",
      "1339 2041 -0.3590733121378974 -0.7689713104183971 0.528913490340087\n"
     ]
    }
   ],
   "source": [
    "import math\n",
    "\n",
    "inp1 = open(\"snap18.pdb\", \"r\")\n",
    "atom_num = []\n",
    "atom_name = []\n",
    "res_name = []\n",
    "res_num = []\n",
    "x = []\n",
    "y = []\n",
    "z = []\n",
    "count = 0\n",
    "\n",
    "for line in inp1:\n",
    "    a = line[4:11]\n",
    "    b = line[11:15]\n",
    "    c = line[15:20]\n",
    "    d = line[22:26]\n",
    "    e = line[26:38]\n",
    "    f = line[38:46]\n",
    "    g = line[46:54]\n",
    "    \n",
    "    atom_num.append(int(a))\n",
    "    atom_name.append(b.strip())\n",
    "    res_name.append(c.strip())\n",
    "    res_num.append(int(d))\n",
    "    x.append(float(e))\n",
    "    y.append(float(f))\n",
    "    z.append(float(g))\n",
    "    count = count + 1\n",
    "    \n",
    "def dir_cosine(x1, y1, z1, x2, y2, z2):\n",
    "    dx = x2 - x1\n",
    "    dy = y2 - y1\n",
    "    dz = z2 - z1\n",
    "    rm = math.sqrt(dx**2 + dy**2 + dz**2)\n",
    "    return dx/rm, dy/rm, dz/rm\n",
    "    \n",
    "for i in range(count):\n",
    "    if atom_num[i] == 1340:\n",
    "        ind1 = i\n",
    "        x1 = x[i]\n",
    "        y1 = y[i]\n",
    "        z1 = z[i]\n",
    "        print(x1, y1, z1)\n",
    "    if atom_num[i] == 2042:\n",
    "        ind2 = i\n",
    "        x2 = x[i]\n",
    "        y2 = y[i]\n",
    "        z2 = z[i]\n",
    "        print(x2, y2, z2)\n",
    "    alpha, beta, gamma = dir_cosine(x1, y1, z1, x2, y2, z2)\n",
    "print(ind1, ind2, alpha, beta, gamma)"
   ]
  },
  {
   "cell_type": "code",
   "execution_count": 15,
   "id": "3c3a76d3-8ec6-4d8a-8114-b17945cd62d3",
   "metadata": {},
   "outputs": [],
   "source": [
    "def translate(x, y, z, a, b, c):\n",
    "    xn = []\n",
    "    yn = []\n",
    "    zn = []\n",
    "    for i in range(len(x)):\n",
    "        xx = x[i] + a\n",
    "        yy = y[i] + b\n",
    "        zz = z[i] + c\n",
    "        xn.append(xx)\n",
    "        yn.append(yy)\n",
    "        zn.append(zz)\n",
    "    return xn, yn, zn\n",
    "xt, yt, zt = translate(x, y, z, 14.216, 0, 0)\n",
    "        "
   ]
  },
  {
   "cell_type": "code",
   "execution_count": 16,
   "id": "f1e51894-85d2-4ae4-9c3e-b97190b7ded1",
   "metadata": {},
   "outputs": [
    {
     "name": "stdout",
     "output_type": "stream",
     "text": [
      "1.7939999999999987 -154.855\n",
      "185.565 -56.537\n",
      "251.823 32.385\n"
     ]
    }
   ],
   "source": [
    "maxx = max(xt)\n",
    "minx = min(xt)\n",
    "print(maxx, minx)\n",
    "maxy = max(yt)\n",
    "miny = min(yt)\n",
    "print(maxy, miny)\n",
    "maxz = max(zt)\n",
    "minz = min(zt)\n",
    "print(maxz, minz)"
   ]
  },
  {
   "cell_type": "code",
   "execution_count": 17,
   "id": "1e50ee8b-454a-475b-8c09-5d51294c5443",
   "metadata": {},
   "outputs": [
    {
     "name": "stdout",
     "output_type": "stream",
     "text": [
      "1.9380711249914164 2.4480267879849023 1.0134765141534603\n",
      "111.0417851063832 140.25969481759498 58.06713687842251\n"
     ]
    }
   ],
   "source": [
    "m = 57.295\n",
    "ang1 = math.acos(alpha)\n",
    "ang2 = math.acos(beta)\n",
    "ang3 = math.acos(gamma)\n",
    "\n",
    "print(math.acos(alpha), math.acos(beta), math.acos(gamma))\n",
    "print(math.acos(alpha)*m, math.acos(beta)*m, math.acos(gamma)*m)"
   ]
  },
  {
   "cell_type": "code",
   "execution_count": 24,
   "id": "bf2efebf-4e6f-43ca-ab29-9e34303c6eec",
   "metadata": {},
   "outputs": [],
   "source": [
    "def x_rotation(ang, x, y, z):\n",
    "    x_n1 = []\n",
    "    y_n1 = []\n",
    "    z_n1 = []\n",
    "    for i in range(len(x)):\n",
    "        a1 = x[i]\n",
    "        b1 = (math.cos(ang)*y[i]) - (z[i]*math.sin(ang))\n",
    "        c1 = (math.sin(ang)*y[i]) + (z[i]*math.cos(ang))\n",
    "        \n",
    "        x_n1.append(a1)\n",
    "        y_n1.append(b1)\n",
    "        z_n1.append(c1)\n",
    "        \n",
    "    return x_n1, y_n1, z_n1\n",
    "\n",
    "def y_rotation(ang, x, y, z):\n",
    "    x_n2 = []\n",
    "    y_n2 = []\n",
    "    z_n2 = []\n",
    "    for i in range(len(x)):\n",
    "        a1 = (x[i]*math.cos(ang)) + (z[i]*math.sin(ang))\n",
    "        b1 = y[i]\n",
    "        c1 = (z[i]*math.cos(ang)) - (x[i]*math.sin(ang))\n",
    "        \n",
    "        x_n2.append(a1)\n",
    "        y_n2.append(b1)\n",
    "        z_n2.append(c1)\n",
    "        \n",
    "    return x_n2, y_n2, z_n2\n",
    "\n",
    "def z_rotation(ang, x, y, z):\n",
    "    x_n3 = []\n",
    "    y_n3 = []\n",
    "    z_n3 = []\n",
    "    for i in range(len(x)):\n",
    "        a1 = (x[i]*math.cos(ang)) - (y[i]*math.sin(ang))\n",
    "        b1 = (x[i]*math.sin(ang)) + (y[i]*math.cos(ang))\n",
    "        c1 = z[i]\n",
    "        \n",
    "        x_n3.append(a1)\n",
    "        y_n3.append(b1)\n",
    "        z_n3.append(c1)\n",
    "        \n",
    "    return x_n3, y_n3, z_n3\n",
    "\n",
    "#rotx1, roty1, rotz1 = x_rotation(ang1, xt, yt, zt)\n",
    "#rotx2, roty2, rotz2 = y_rotation(ang2, rotx1, roty1, rotz1)\n",
    "#rotx3, roty3, rotz3 = z_rotation(ang3, rotx2, roty2, rotz2)\n",
    "\n",
    "rotx1, roty1, rotz1 = y_rotation(ang2, xt, yt, zt)\n",
    "rotx2, roty2, rotz2 = z_rotation(ang3, rotx1, roty1, rotz1)\n",
    "rotx3, roty3, rotz3 = x_rotation(ang1, rotx2, roty2, rotz2)\n",
    "\n",
    "#for ii in range(len(rotx)):\n",
    "#    print(rotx[ii])"
   ]
  },
  {
   "cell_type": "code",
   "execution_count": 28,
   "id": "9c66a7a6-7fd9-4687-834d-7812270261db",
   "metadata": {},
   "outputs": [
    {
     "name": "stdout",
     "output_type": "stream",
     "text": [
      "-107.76215114009952 -6.891938300838181 100.39092677187409\n",
      "140.12623552605345 24.608357050435934 143.64179948947748\n",
      "1339 2041 0.9774885135156529 0.12421387420496387 0.17054946320628678\n"
     ]
    }
   ],
   "source": [
    "for i in range(count):\n",
    "    if atom_num[i] == 1340:\n",
    "        ind1 = i\n",
    "        x1 = rotx3[i]\n",
    "        y1 = roty3[i]\n",
    "        z1 = rotz3[i]\n",
    "        print(x1, y1, z1)\n",
    "    if atom_num[i] == 2042:\n",
    "        ind2 = i\n",
    "        x2 = rotx3[i]\n",
    "        y2 = roty3[i]\n",
    "        z2 = rotz3[i]\n",
    "        print(x2, y2, z2)\n",
    "    alpha1, beta1, gamma1 = dir_cosine(x1, y1, z1, x2, y2, z2)\n",
    "print(ind1, ind2, alpha1, beta1, gamma1)"
   ]
  },
  {
   "cell_type": "code",
   "execution_count": 31,
   "id": "c1821a0a-349b-436b-b6df-fdae0415c1ef",
   "metadata": {},
   "outputs": [
    {
     "name": "stdout",
     "output_type": "stream",
     "text": [
      "0.212586257218454 1.4462607964906882 1.3994090515221733\n",
      "12.180295321099946 82.8646397141453 80.1802324646261\n"
     ]
    }
   ],
   "source": [
    "m = 180/(math.pi)\n",
    "ang11 = math.acos(alpha1)\n",
    "ang22 = math.acos(beta1)\n",
    "ang33 = math.acos(gamma1)\n",
    "print(ang11, ang22, ang33)\n",
    "print(m*ang11, m*ang22, m*ang33)"
   ]
  },
  {
   "cell_type": "code",
   "execution_count": 38,
   "id": "1d00ff7c-154f-4929-b623-5561422b9f85",
   "metadata": {},
   "outputs": [],
   "source": [
    "m = 1.0\n",
    "n = 0\n",
    "atom_type = \"C\"\n",
    "out1 = open(\"rot_mod_18.dat\", \"w\")   \n",
    "for i in range(len(atom_num)):\n",
    "    if atom_num[i] <= 1339:\n",
    "        #ss = '{:>5d}{:>4d}{:>3s}{:>4s}{:>8.3f}{:>8.3f}{:>8.3f}{:>8.3f}{}'.format(atom[i], res_num[i], atom_name[i], res_name[i], x[i], y[i], z[i], m, \"\\n\")\n",
    "        ss = '{:>5d}{:>4d}{:>3s}{:>4s}{:>8.3f}{:>8.3f}{:>8.3f}{:>8.3f}{}'.format(atom_num[i], res_num[i], atom_name[i], res_name[i], rotx3[i], roty3[i], rotz3[i], m, \"\\n\")\n",
    "        out1.writelines(ss)\n",
    "    if atom_num[i] >= 1340:\n",
    "        ss1 = '{:>5d}{:>4d}{:>2s}{:>5s}{:>8.3f}{:>8.3f}{:>8.3f}{:>8.3f}{:>3d}{}'.format(atom_num[i], atom_num[i], atom_name[i], res_name[i], rotx3[i], roty3[i], rotz3[i], m, n, \"\\n\")\n",
    "        out1.writelines(ss1)\n",
    "out1.close()"
   ]
  },
  {
   "cell_type": "code",
   "execution_count": 39,
   "id": "76417bc3-e230-49fe-bf7f-4a632f89b318",
   "metadata": {},
   "outputs": [
    {
     "name": "stdout",
     "output_type": "stream",
     "text": [
      "157.6911475236207 -109.83176278193926\n",
      "37.57284824853581 -40.65794694349561\n",
      "288.82453875124185 81.56289770165473\n"
     ]
    }
   ],
   "source": [
    "maxx = max(rotx3)\n",
    "minx = min(rotx3)\n",
    "print(maxx, minx)\n",
    "maxy = max(roty3)\n",
    "miny = min(roty3)\n",
    "print(maxy, miny)\n",
    "maxz = max(rotz3)\n",
    "minz = min(rotz3)\n",
    "print(maxz, minz)"
   ]
  },
  {
   "cell_type": "code",
   "execution_count": 50,
   "id": "aa73c173-5e30-4860-b70f-21af81268a48",
   "metadata": {},
   "outputs": [],
   "source": [
    "xt22, yt22, zt22 = translate(rotx3, roty3, rotz3, 0, 0, -181.562)"
   ]
  },
  {
   "cell_type": "code",
   "execution_count": 51,
   "id": "845ecacc-12f0-4fc3-bb6d-a808ee71652f",
   "metadata": {},
   "outputs": [],
   "source": [
    "xt2, yt2, zt2 = translate(xt22, yt22, zt22, -24, 0, 0)"
   ]
  },
  {
   "cell_type": "code",
   "execution_count": 52,
   "id": "ad5a26c6-d500-44fd-9579-87191d97df75",
   "metadata": {},
   "outputs": [
    {
     "name": "stdout",
     "output_type": "stream",
     "text": [
      "133.6911475236207 -133.83176278193926\n",
      "37.57284824853581 -40.65794694349561\n",
      "107.26253875124183 -99.99910229834528\n"
     ]
    }
   ],
   "source": [
    "maxx = max(xt2)\n",
    "minx = min(xt2)\n",
    "print(maxx, minx)\n",
    "maxy = max(yt2)\n",
    "miny = min(yt2)\n",
    "print(maxy, miny)\n",
    "maxz = max(zt2)\n",
    "minz = min(zt2)\n",
    "print(maxz, minz)"
   ]
  },
  {
   "cell_type": "code",
   "execution_count": 53,
   "id": "d9a52cb4-20f5-4980-8346-909f25b2861d",
   "metadata": {},
   "outputs": [],
   "source": [
    "m = 1.0\n",
    "n = 0\n",
    "atom_type = \"C\"\n",
    "out1 = open(\"rot_mod3_18.dat\", \"w\")   \n",
    "for i in range(len(atom_num)):\n",
    "    if atom_num[i] <= 1339:\n",
    "        #ss = '{:>5d}{:>4d}{:>3s}{:>4s}{:>8.3f}{:>8.3f}{:>8.3f}{:>8.3f}{}'.format(atom[i], res_num[i], atom_name[i], res_name[i], x[i], y[i], z[i], m, \"\\n\")\n",
    "        ss = '{:>5d}{:>4d}{:>3s}{:>4s}{:>8.3f}{:>8.3f}{:>8.3f}{:>8.3f}{}'.format(atom_num[i], res_num[i], atom_name[i], res_name[i], xt2[i], yt2[i], zt2[i], m, \"\\n\")\n",
    "        out1.writelines(ss)\n",
    "    if atom_num[i] >= 1340:\n",
    "        ss1 = '{:>5d}{:>4d}{:>2s}{:>5s}{:>8.3f}{:>8.3f}{:>8.3f}{:>8.3f}{:>3d}{}'.format(atom_num[i], atom_num[i], atom_name[i], res_name[i], xt2[i], yt2[i], zt2[i], m, n, \"\\n\")\n",
    "        out1.writelines(ss1)\n",
    "out1.close()"
   ]
  },
  {
   "cell_type": "code",
   "execution_count": 54,
   "id": "8602905d-a328-4ee3-a653-459053d52e9a",
   "metadata": {},
   "outputs": [
    {
     "name": "stdout",
     "output_type": "stream",
     "text": [
      "-131.76215114009952 -6.891938300838181 -81.17107322812592\n",
      "116.12623552605345 24.608357050435934 -37.920200510522534\n",
      "1339 2041 0.9774885135156529 0.12421387420496387 0.17054946320628678\n",
      "0.212586257218454 1.4462607964906882 1.3994090515221733\n",
      "12.180295321099946 82.8646397141453 80.1802324646261\n"
     ]
    }
   ],
   "source": [
    "for i in range(count):\n",
    "    if atom_num[i] == 1340:\n",
    "        ind1 = i\n",
    "        x1 = xt2[i]\n",
    "        y1 = yt2[i]\n",
    "        z1 = zt2[i]\n",
    "        print(x1, y1, z1)\n",
    "    if atom_num[i] == 2042:\n",
    "        ind2 = i\n",
    "        x2 = xt2[i]\n",
    "        y2 = yt2[i]\n",
    "        z2 = zt2[i]\n",
    "        print(x2, y2, z2)\n",
    "    alpha1, beta1, gamma1 = dir_cosine(x1, y1, z1, x2, y2, z2)\n",
    "print(ind1, ind2, alpha1, beta1, gamma1)\n",
    "m = 180/(math.pi)\n",
    "ang11 = math.acos(alpha1)\n",
    "ang22 = math.acos(beta1)\n",
    "ang33 = math.acos(gamma1)\n",
    "print(ang11, ang22, ang33)\n",
    "print(m*ang11, m*ang22, m*ang33)"
   ]
  },
  {
   "cell_type": "code",
   "execution_count": 47,
   "id": "85be4513-2d61-4a50-b213-185e85b671ec",
   "metadata": {},
   "outputs": [],
   "source": [
    "#rotx11, roty11, rotz11 = y_rotation(ang22, xt2, yt2, zt2)\n",
    "#rotx22, roty22, rotz22 = z_rotation(ang33, rotx11, roty11, rotz11)\n",
    "rotx33, roty33, rotz33 = x_rotation(ang11, xt2, yt2, zt2)"
   ]
  },
  {
   "cell_type": "code",
   "execution_count": 48,
   "id": "ac9901f1-eb77-4fa9-80cd-0447a5dc4cf1",
   "metadata": {},
   "outputs": [
    {
     "name": "stdout",
     "output_type": "stream",
     "text": [
      "-107.76215114009952 81.34673585264521 4.353218196726005\n",
      "140.12623552605345 140.12623552605345 140.12623552605345\n",
      "1339 2041 0.8586865483374381 0.20361246594232713 0.47031837665268983\n",
      "0.5380950100983912 1.3657500515819727 1.0811448154001593\n",
      "30.83057305568723 78.25171382542152 61.94503496487962\n"
     ]
    }
   ],
   "source": [
    "for i in range(count):\n",
    "    if atom_num[i] == 1340:\n",
    "        ind1 = i\n",
    "        x1 = rotx33[i]\n",
    "        y1 = roty33[i]\n",
    "        z1 = rotz33[i]\n",
    "        print(x1, y1, z1)\n",
    "    if atom_num[i] == 2042:\n",
    "        ind2 = i\n",
    "        x2 = rotx33[i]\n",
    "        y2 = rotx33[i]\n",
    "        z2 = rotx33[i]\n",
    "        print(x2, y2, z2)\n",
    "    alpha1, beta1, gamma1 = dir_cosine(x1, y1, z1, x2, y2, z2)\n",
    "print(ind1, ind2, alpha1, beta1, gamma1)\n",
    "m = 180/(math.pi)\n",
    "ang11 = math.acos(alpha1)\n",
    "ang22 = math.acos(beta1)\n",
    "ang33 = math.acos(gamma1)\n",
    "print(ang11, ang22, ang33)\n",
    "print(m*ang11, m*ang22, m*ang33)"
   ]
  },
  {
   "cell_type": "code",
   "execution_count": null,
   "id": "9f15981f-aa94-4352-8841-d8ae04ce826f",
   "metadata": {},
   "outputs": [],
   "source": []
  }
 ],
 "metadata": {
  "kernelspec": {
   "display_name": "Python 3 (ipykernel)",
   "language": "python",
   "name": "python3"
  },
  "language_info": {
   "codemirror_mode": {
    "name": "ipython",
    "version": 3
   },
   "file_extension": ".py",
   "mimetype": "text/x-python",
   "name": "python",
   "nbconvert_exporter": "python",
   "pygments_lexer": "ipython3",
   "version": "3.9.12"
  }
 },
 "nbformat": 4,
 "nbformat_minor": 5
}
