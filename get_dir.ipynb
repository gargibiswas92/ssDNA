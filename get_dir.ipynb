{
 "cells": [
  {
   "cell_type": "code",
   "execution_count": 12,
   "id": "56be0077-e114-4aca-bb90-166c0cdbf8cb",
   "metadata": {},
   "outputs": [
    {
     "name": "stdout",
     "output_type": "stream",
     "text": [
      "-0.18892881135421263 -0.11910570219675459 -0.9747408557891181\n",
      "0.4182254655764625 -0.1969698287974176 -0.8867301429898881\n"
     ]
    }
   ],
   "source": [
    "import sys\n",
    "import math\n",
    "inp1 = open(\"final.pdb\", \"r\")\n",
    "res_num = []\n",
    "cord_x = []\n",
    "cord_y = []\n",
    "cord_z = []\n",
    "for line in inp1:\n",
    "    a = line[0:5]\n",
    "    b = line[16:24]\n",
    "    c = line[24:32]\n",
    "    d = line[32:40]\n",
    "    res_num.append(int(a))\n",
    "    cord_x.append(float(b))\n",
    "    cord_y.append(float(c))\n",
    "    cord_z.append(float(d))\n",
    "#    print(a, b, c, d)\n",
    "    \n",
    "for i in range(len(res_num)):\n",
    "    for j in range(len(res_num)):\n",
    "        if res_num[i] == 1397 and res_num[j] == 1412:\n",
    "            x1 = cord_x[i]\n",
    "            y1 = cord_y[i]\n",
    "            z1 = cord_z[i]\n",
    "    \n",
    "            x2 = cord_x[j]\n",
    "            y2 = cord_y[j]\n",
    "            z2 = cord_z[j]\n",
    "            \n",
    "        if res_num[i] == 1457 and res_num[j] == 1430:\n",
    "            x11 = cord_x[i]\n",
    "            y11 = cord_y[i]\n",
    "            z11 = cord_z[i]\n",
    "            \n",
    "            x22 = cord_x[j]\n",
    "            y22 = cord_y[j]\n",
    "            z22 = cord_z[j]\n",
    "            \n",
    "#print(x1, x2, x11, x22)\n",
    "#print(y1, y2, y11, y22)\n",
    "#print(z1, z2, z11, z22)\n",
    "r1x = x2 - x1\n",
    "r1y = y2 - y1\n",
    "r1z = z2 - z1\n",
    "r1_m = math.sqrt(r1x**2 + r1y**2 + r1z**2)\n",
    "r1x_f = r1x/r1_m\n",
    "r1y_f = r1y/r1_m\n",
    "r1z_f = r1z/r1_m\n",
    "\n",
    "r2x = x22 - x11\n",
    "r2y = y22 - y11\n",
    "r2z = z22 - z11\n",
    "r2_m = math.sqrt(r2x**2 + r2y**2 + r2z**2)\n",
    "r2x_f = r2x/r2_m\n",
    "r2y_f = r2y/r2_m\n",
    "r2z_f = r2z/r2_m\n",
    "        \n",
    "print(r1x_f, r1y_f, r1z_f) \n",
    "print(r2x_f, r2y_f, r2z_f)\n",
    "    "
   ]
  },
  {
   "cell_type": "code",
   "execution_count": null,
   "id": "0029d1ed-09cc-42c0-9ccd-32a9ee7aa498",
   "metadata": {},
   "outputs": [],
   "source": []
  }
 ],
 "metadata": {
  "kernelspec": {
   "display_name": "Python 3 (ipykernel)",
   "language": "python",
   "name": "python3"
  },
  "language_info": {
   "codemirror_mode": {
    "name": "ipython",
    "version": 3
   },
   "file_extension": ".py",
   "mimetype": "text/x-python",
   "name": "python",
   "nbconvert_exporter": "python",
   "pygments_lexer": "ipython3",
   "version": "3.9.12"
  }
 },
 "nbformat": 4,
 "nbformat_minor": 5
}
